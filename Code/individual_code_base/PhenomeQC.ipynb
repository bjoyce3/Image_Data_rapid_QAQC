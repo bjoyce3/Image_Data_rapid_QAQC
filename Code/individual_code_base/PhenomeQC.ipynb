{
 "cells": [
  {
   "cell_type": "code",
   "execution_count": 26,
   "metadata": {
    "collapsed": true
   },
   "outputs": [],
   "source": [
    "#Test script\n",
    "#python PhenomeQC.py complete_RedEdge_69meters --coord POLYGON((-87.005519 40.477489 , -87.000945 40.477490 , -87.000971 40.476615 , -87.005519 40.476634, -87.005519 40.477489)) --camera \"rededge\" --ground 217\n"
   ]
  },
  {
   "cell_type": "code",
   "execution_count": 27,
   "metadata": {
    "collapsed": true
   },
   "outputs": [],
   "source": [
    "import argparse\n",
    "import numpy\n",
    "import os\n",
    "import string\n",
    "import sys\n"
   ]
  },
  {
   "cell_type": "code",
   "execution_count": 28,
   "metadata": {
    "collapsed": false
   },
   "outputs": [
    {
     "data": {
      "text/plain": [
       "_StoreAction(option_strings=['--lower_flight_lvl'], dest='lower_flight_lvl', nargs=None, const=None, default=None, type=<type 'float'>, choices=None, help='Lower acceptable bound on flight level as above ground level in meters. Set as a double.', metavar=None)"
      ]
     },
     "execution_count": 28,
     "metadata": {},
     "output_type": "execute_result"
    }
   ],
   "source": [
    "#Establish args from command line\n",
    "parser = argparse.ArgumentParser()\n",
    "#Required arguments\n",
    "parser.add_argument('-coords', required=True, help='Input file that contains the coordinates for the plot that has been flown. String of field plot in WKT.')\n",
    "parser.add_argument('-camera', required=True, help='Type of camera used. Supported camera types: sequoia/parrot, rededge, rgb, hyperspectral. Inputs as a string.')\n",
    "parser.add_argument('-ground', required=True, type=float, help='Ground level from ocean height in meters. Set as a double.')\n",
    "\n",
    "#Optional arguments\n",
    "parser.add_argument('--resolution', type=float, help='Resolution of bounding boxes on the ground. Changes the size of bounding box on the ground. Default == half a meter. Input as a double in meters.')\n",
    "parser.add_argument('--upper_flight_lvl', type=float, help='Upper bounds on flight level measured as above ground level in meters. Set as a double.')\n",
    "parser.add_argument('--lower_flight_lvl', type=float, help='Lower acceptable bound on flight level as above ground level in meters. Set as a double.')\n"
   ]
  },
  {
   "cell_type": "code",
   "execution_count": 29,
   "metadata": {
    "collapsed": false
   },
   "outputs": [
    {
     "name": "stdout",
     "output_type": "stream",
     "text": [
      "usage: __main__.py [-h] -coords COORDS -camera CAMERA -ground GROUND\n",
      "                   [--resolution RESOLUTION]\n",
      "                   [--upper_flight_lvl UPPER_FLIGHT_LVL]\n",
      "                   [--lower_flight_lvl LOWER_FLIGHT_LVL]\n",
      "\n",
      "optional arguments:\n",
      "  -h, --help            show this help message and exit\n",
      "  -coords COORDS        Input file that contains the coordinates for the plot\n",
      "                        that has been flown. String of field plot in WKT.\n",
      "  -camera CAMERA        Type of camera used. Supported camera types:\n",
      "                        sequoia/parrot, rededge, rgb, hyperspectral. Inputs as\n",
      "                        a string.\n",
      "  -ground GROUND        Ground level from ocean height in meters. Set as a\n",
      "                        double.\n",
      "  --resolution RESOLUTION\n",
      "                        Resolution of bounding boxes on the ground. Changes\n",
      "                        the size of bounding box on the ground. Default ==\n",
      "                        half a meter. Input as a double in meters.\n",
      "  --upper_flight_lvl UPPER_FLIGHT_LVL\n",
      "                        Upper bounds on flight level measured as above ground\n",
      "                        level in meters. Set as a double.\n",
      "  --lower_flight_lvl LOWER_FLIGHT_LVL\n",
      "                        Lower acceptable bound on flight level as above ground\n",
      "                        level in meters. Set as a double.\n"
     ]
    }
   ],
   "source": [
    "parser.print_help()"
   ]
  },
  {
   "cell_type": "code",
   "execution_count": 30,
   "metadata": {
    "collapsed": true
   },
   "outputs": [],
   "source": [
    "#Defined Functions\n",
    "\n",
    "#Check functions for input\n",
    "def directory_check(directory):\n",
    "    '''\n",
    "    Go over the directory and make sure that\n",
    "    the directory has TIFFs we need\n",
    "    \n",
    "    Return False if no tiff file or has any other files\n",
    "    Return True  if only have tiff file(s)\n",
    "    '''\n",
    "    return True in [files.endswith(\".tif\") for files in os.listdir(directory)]\n",
    "\n",
    "\n",
    "class FieldError(Exception):\n",
    "    '''\n",
    "    All Errors related to class Field are FieldError\n",
    "    '''\n",
    "    pass\n",
    "\n",
    "\n",
    "class BoundingBox:\n",
    "    '''\n",
    "    The class for the bounding box\n",
    "    '''\n",
    "    \n",
    "    def __init__(self, corner_1, corner_2):\n",
    "        \n",
    "        if not isinstance(corner_1,tuple) or not isinstance(corner_2,tuple):\n",
    "            raise Exception\n",
    "        \n",
    "        self.northwest = corner_1\n",
    "        self.southeast = corner_2\n",
    "        \n",
    "        \n",
    "\n",
    "\n",
    "class Field:\n",
    "    '''\n",
    "    Field class has all the GPS information of the Field\n",
    "    Can split the field into several bounding box\n",
    "    '''\n",
    "    \n",
    "    bounding_box = []\n",
    "    \n",
    "    def __init__(self, *args):\n",
    "        if not args:\n",
    "            raise FieldError\n",
    "            \n",
    "        self.raw_bounding_box = list(args)     \n",
    "    \n",
    "    def split_bounding_box(self):\n",
    "        pass\n",
    "    \n",
    "    \n",
    "    def simplified_field(self):\n",
    "        '''\n",
    "        Return the approximate bounding box of the field\n",
    "        '''\n",
    "        \n",
    "        unzip_bounding_box = zip(*bounding_box)\n",
    "        \n",
    "        latitute = sorted(unzip_bounding_box[0])\n",
    "        \n",
    "        latitute_east, latitute_west = latitute[0], latitute[-1]\n",
    "        \n",
    "        longitude = sorted(unzip_bounding_box[-1])\n",
    "        \n",
    "        longitude_south, longitude_north = longitude[0], longitude[-1]\n",
    "        \n",
    "        return [(latitute_west, longitude_north),(latitute_east, longitude_south)]\n",
    "        \n",
    "    \n",
    "    \n",
    "    def get_bounding_box(self):\n",
    "        \n",
    "        if not bounding_box:\n",
    "            raise FieldError(\"No bounding box information (you may need to split it beforehand)\")\n",
    "        \n",
    "        return bounding_box\n",
    "    \n",
    "    \n",
    "def GPS_Loader(wkt_str):\n",
    "    '''\n",
    "    Loads the GPS information from a WKT file and\n",
    "    Wraps into a Field instance\n",
    "    '''\n",
    "      \n",
    "    raw_data = wkt_str.strip(string.ascii_uppercase + \"()\").split(\",\")\n",
    "    \n",
    "    coordinates = [(float(members.split()[0]), float(members.split()[1])) for members in raw_data]\n",
    "            \n",
    "    return Field(coordinates)\n",
    "  \n",
    "\n",
    "def GPS_Expectaion(field_data, lat, lng):\n",
    "    '''\n",
    "    Check whether the \n",
    "    '''\n",
    "    \n",
    "    if not isinstance(field_data, Field):\n",
    "        raise FieldError\n",
    "        "
   ]
  },
  {
   "cell_type": "code",
   "execution_count": null,
   "metadata": {
    "collapsed": true
   },
   "outputs": [],
   "source": []
  },
  {
   "cell_type": "code",
   "execution_count": 31,
   "metadata": {
    "collapsed": false
   },
   "outputs": [
    {
     "name": "stderr",
     "output_type": "stream",
     "text": [
      "usage: __main__.py [-h] -coords COORDS -camera CAMERA -ground GROUND\n",
      "                   [--resolution RESOLUTION]\n",
      "                   [--upper_flight_lvl UPPER_FLIGHT_LVL]\n",
      "                   [--lower_flight_lvl LOWER_FLIGHT_LVL]\n",
      "__main__.py: error: argument -coords is required\n"
     ]
    },
    {
     "ename": "SystemExit",
     "evalue": "2",
     "output_type": "error",
     "traceback": [
      "An exception has occurred, use %tb to see the full traceback.\n",
      "\u001b[0;31mSystemExit\u001b[0m\u001b[0;31m:\u001b[0m 2\n"
     ]
    },
    {
     "ename": "TypeError",
     "evalue": "'level' is an invalid keyword argument for this function",
     "output_type": "error",
     "traceback": [
      "\u001b[0;31m---------------------------------------------------------------------------\u001b[0m",
      "\u001b[0;31mTypeError\u001b[0m                                 Traceback (most recent call last)",
      "\u001b[0;32m/usr/local/lib/python2.7/site-packages/IPython/core/interactiveshell.pyc\u001b[0m in \u001b[0;36mrun_code\u001b[0;34m(self, code_obj, result)\u001b[0m\n\u001b[1;32m   2875\u001b[0m                 \u001b[0mresult\u001b[0m\u001b[0;34m.\u001b[0m\u001b[0merror_in_exec\u001b[0m \u001b[0;34m=\u001b[0m \u001b[0me\u001b[0m\u001b[0;34m\u001b[0m\u001b[0m\n\u001b[1;32m   2876\u001b[0m             \u001b[0mself\u001b[0m\u001b[0;34m.\u001b[0m\u001b[0mshowtraceback\u001b[0m\u001b[0;34m(\u001b[0m\u001b[0mexception_only\u001b[0m\u001b[0;34m=\u001b[0m\u001b[0mTrue\u001b[0m\u001b[0;34m)\u001b[0m\u001b[0;34m\u001b[0m\u001b[0m\n\u001b[0;32m-> 2877\u001b[0;31m             \u001b[0mwarn\u001b[0m\u001b[0;34m(\u001b[0m\u001b[0;34m\"To exit: use 'exit', 'quit', or Ctrl-D.\"\u001b[0m\u001b[0;34m,\u001b[0m \u001b[0mlevel\u001b[0m\u001b[0;34m=\u001b[0m\u001b[0;36m1\u001b[0m\u001b[0;34m)\u001b[0m\u001b[0;34m\u001b[0m\u001b[0m\n\u001b[0m\u001b[1;32m   2878\u001b[0m         \u001b[0;32mexcept\u001b[0m \u001b[0mself\u001b[0m\u001b[0;34m.\u001b[0m\u001b[0mcustom_exceptions\u001b[0m\u001b[0;34m:\u001b[0m\u001b[0;34m\u001b[0m\u001b[0m\n\u001b[1;32m   2879\u001b[0m             \u001b[0metype\u001b[0m\u001b[0;34m,\u001b[0m \u001b[0mvalue\u001b[0m\u001b[0;34m,\u001b[0m \u001b[0mtb\u001b[0m \u001b[0;34m=\u001b[0m \u001b[0msys\u001b[0m\u001b[0;34m.\u001b[0m\u001b[0mexc_info\u001b[0m\u001b[0;34m(\u001b[0m\u001b[0;34m)\u001b[0m\u001b[0;34m\u001b[0m\u001b[0m\n",
      "\u001b[0;31mTypeError\u001b[0m: 'level' is an invalid keyword argument for this function"
     ]
    }
   ],
   "source": [
    "#Set global variables\n",
    "args = parser.parse_args()\n",
    "input_directory = sys.argv[1] #directory path input\n",
    "output_directory = sys.argv[-1] #directory path output\n",
    "\n",
    "#Pass inputs into functions\n",
    "field_coords = args.coords\n",
    "camera_type = args.camera\n",
    "ground_level = args.ground\n"
   ]
  }
 ],
 "metadata": {
  "kernelspec": {
   "display_name": "Python 2",
   "language": "python",
   "name": "python2"
  },
  "language_info": {
   "codemirror_mode": {
    "name": "ipython",
    "version": 2
   },
   "file_extension": ".py",
   "mimetype": "text/x-python",
   "name": "python",
   "nbconvert_exporter": "python",
   "pygments_lexer": "ipython2",
   "version": "2.7.11"
  }
 },
 "nbformat": 4,
 "nbformat_minor": 1
}
